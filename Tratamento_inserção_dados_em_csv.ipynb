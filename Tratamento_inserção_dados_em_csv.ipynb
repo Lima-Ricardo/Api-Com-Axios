{
  "nbformat": 4,
  "nbformat_minor": 0,
  "metadata": {
    "colab": {
      "name": "Tratamento_inserção_dados_em_csv.ipynb",
      "provenance": [],
      "collapsed_sections": [],
      "authorship_tag": "ABX9TyNUIY3LQUc9uCh/aaDReGON",
      "include_colab_link": true
    },
    "kernelspec": {
      "name": "python3",
      "display_name": "Python 3"
    },
    "language_info": {
      "name": "python"
    }
  },
  "cells": [
    {
      "cell_type": "markdown",
      "metadata": {
        "id": "view-in-github",
        "colab_type": "text"
      },
      "source": [
        "<a href=\"https://colab.research.google.com/github/Lima-Ricardo/Api-Com-Axios/blob/main/Tratamento_inser%C3%A7%C3%A3o_dados_em_csv.ipynb\" target=\"_parent\"><img src=\"https://colab.research.google.com/assets/colab-badge.svg\" alt=\"Open In Colab\"/></a>"
      ]
    },
    {
      "cell_type": "code",
      "execution_count": null,
      "metadata": {
        "id": "fh0C7AQ_9MQn"
      },
      "outputs": [],
      "source": [
        "from modules.postgres import Conector_postgres\n",
        "import pandas as pd\n",
        "from tqdm import tqdm\n",
        "from time import sleep\n",
        "\n",
        "'''\n",
        "Função criada para leitura e tratamento de arquivos csv, contendo uma barra de progresso que informa o usuário,\n",
        "quantos registros ele irá inserir e o tempo restante para a inclusão da inserção no banco de dados.\n",
        "\n",
        "By: Ricardo Alex de Lima\n",
        "\n",
        "'''\n",
        "\n",
        "if __name__ ==\"__main__\":\n",
        "\n",
        "    try:\n",
        "        def leitura_e_tratamento():\n",
        "            #trazendo o conector\n",
        "            banco = Conector_postgres(host=\"127.0.0.1\", db=\"ATV14\")\n",
        "            #lendo o arquivo csv\n",
        "            df = pd.read_csv(input('Digite o caminho do arquivo: '))\n",
        "            \n",
        "            #tratando todos os campos em branco\n",
        "            dados = df.dropna(how=\"any\", axis=0)\n",
        "            \n",
        "            #barra de progresso que mostra aq quantidade de registros junto com tempo que falta para a conclusão da inserção.\n",
        "            with tqdm(total=df.shape[0]) as pbar: \n",
        "                #percorrendo o csv tratado e inserindo no banco\n",
        "                for index, row in dados.iterrows():\n",
        "                    pbar.update(1)\n",
        "                    banco.inserir(f\"INSERT INTO aula_csv (datas, valor) VALUES ('{row['data']}', '{row['valor']}'); \")   \n",
        "                    sleep(0.25)\n",
        "                \n",
        "                print('Os registros inseridos com sucesso!\\n')\n",
        "                df = pd.DataFrame(banco.selecionar(f\"SELECT * FROM aula_csv\"))\n",
        "                print(df)\n",
        "        leitura_e_tratamento()\n",
        "        \n",
        "    except Exception as e :\n",
        "        print(str(e))"
      ]
    }
  ]
}