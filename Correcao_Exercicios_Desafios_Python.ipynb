{
  "nbformat": 4,
  "nbformat_minor": 0,
  "metadata": {
    "colab": {
      "name": "Correcao_Exercicios_Desafios_Python",
      "provenance": [],
      "collapsed_sections": [],
      "authorship_tag": "ABX9TyN+wGtwnzJDTfZ1DOBP/m+p",
      "include_colab_link": true
    },
    "kernelspec": {
      "name": "python3",
      "display_name": "Python 3"
    },
    "language_info": {
      "name": "python"
    }
  },
  "cells": [
    {
      "cell_type": "markdown",
      "metadata": {
        "id": "view-in-github",
        "colab_type": "text"
      },
      "source": [
        "<a href=\"https://colab.research.google.com/github/Lima-Ricardo/Api-Com-Axios/blob/main/Correcao_Exercicios_Desafios_Python.ipynb\" target=\"_parent\"><img src=\"https://colab.research.google.com/assets/colab-badge.svg\" alt=\"Open In Colab\"/></a>"
      ]
    },
    {
      "cell_type": "code",
      "execution_count": null,
      "metadata": {
        "id": "6FzGwz-vsBIM"
      },
      "outputs": [],
      "source": [
        "                      #Exercicios de Fixação\n",
        "\n",
        "# Exercício 1 - Imprima na tela os números de 1 a 10. Use uma lista para armazenar os números.\n",
        "# Exercício 2 - Crie uma lista de 5 objetos e imprima na tela\n",
        "# Exercício 3 - Crie duas strings e concatene as duas em uma terceira string\n",
        "# Exercício 4 - Crie uma tupla com os seguintes elementos: 1, 2, 2, 3, 4, 4, 4, 5 e depois utilize a função count do \n",
        "# objeto tupla para verificar quantas vezes o número 4 aparece na tupla\n",
        "# Exercício 5 - Crie um dicionário vazio e imprima na tela\n",
        "# Exercício 6 - Crie um dicionário com 3 chaves e 3 valores e imprima na tela\n",
        "# Exercício 7 - Adicione mais um elemento ao dicionário criado no exercício anterior e imprima na tela\n",
        "# Exercício 8 - Crie um dicionário com 3 chaves e 3 valores. Um dos valores deve ser uma lista de 2 elementos numéricos. \n",
        "# Imprima o dicionário na tela.\n",
        "# Exercício 9 - Crie uma lista de 4 elementos. O primeiro elemento deve ser uma string, \n",
        "# o segundo uma tupla de 2 elementos, o terceiro um dcionário com 2 chaves e 2 valores e \n",
        "# o quarto elemento um valor do tipo float.\n",
        "# Imprima a lista na tela.\n",
        "# Exercício 10 - Considere a string abaixo. Imprima na tela apenas os caracteres da posição 1 a 18.\n",
        "frase = 'Cientista de Dados é o profissional mais sexy do século XXI'"
      ]
    },
    {
      "cell_type": "code",
      "source": [
        "# Exercício 1 - Imprima na tela os números de 1 a 10. Use uma lista para armazenar os números.\n",
        "lista = [1,2,3,4,5,6,7,8,9,10]\n",
        "print(lista)"
      ],
      "metadata": {
        "colab": {
          "base_uri": "https://localhost:8080/"
        },
        "id": "lyGKOhJZsJ9g",
        "outputId": "dc36aa6f-d369-4fcf-a9f7-dd66b6bd4d4c"
      },
      "execution_count": null,
      "outputs": [
        {
          "output_type": "stream",
          "name": "stdout",
          "text": [
            "[1, 2, 3, 4, 5, 6, 7, 8, 9, 10]\n"
          ]
        }
      ]
    },
    {
      "cell_type": "code",
      "source": [
        "# Exercício 2 - Crie uma lista de 5 objetos e imprima na tela\n",
        "\n",
        "lista = ['parafuso','martelo', 'chave de fenda','prego','furadeira']\n",
        "print(lista)"
      ],
      "metadata": {
        "colab": {
          "base_uri": "https://localhost:8080/"
        },
        "id": "VH2IGw-9scnV",
        "outputId": "1344beb9-9ea2-42d7-b360-85b90fc48856"
      },
      "execution_count": null,
      "outputs": [
        {
          "output_type": "stream",
          "name": "stdout",
          "text": [
            "['parafuso', 'martelo', 'chave de fenda', 'prego', 'furadeira']\n"
          ]
        }
      ]
    },
    {
      "cell_type": "code",
      "source": [
        "# Exercício 3 - Crie duas strings e concatene as duas em uma terceira string\n",
        "string01 = 'Eu estudo programação '\n",
        "string02 = 'na SoulCode Academy '\n",
        "\n",
        "print(string01 +string02)"
      ],
      "metadata": {
        "colab": {
          "base_uri": "https://localhost:8080/"
        },
        "id": "o4YiiRugsdJ9",
        "outputId": "8197a248-2d04-4c0d-ca6e-e96310b4bd8f"
      },
      "execution_count": null,
      "outputs": [
        {
          "output_type": "stream",
          "name": "stdout",
          "text": [
            "Eu estudo programação na SoulCode Academy \n"
          ]
        }
      ]
    },
    {
      "cell_type": "code",
      "source": [
        "# Exercício 4 - Crie uma tupla com os seguintes elementos: 1, 2, 2, 3, 4, 4, 4, 5 e depois utilize a função count do \n",
        "# objeto tupla para verificar quantas vezes o número 4 aparece na tupla\n",
        "\n",
        "tupla =(1,2,3,4,4,4,5)\n",
        "tupla.count(4)"
      ],
      "metadata": {
        "colab": {
          "base_uri": "https://localhost:8080/"
        },
        "id": "CTFAK8aIt2wP",
        "outputId": "cbca458e-731e-48ea-c125-f78734635186"
      },
      "execution_count": null,
      "outputs": [
        {
          "output_type": "execute_result",
          "data": {
            "text/plain": [
              "3"
            ]
          },
          "metadata": {},
          "execution_count": 10
        }
      ]
    },
    {
      "cell_type": "code",
      "source": [
        "# Exercício 5 - Crie um dicionário vazio e imprima na tela\n",
        "dicio = {}\n",
        "print(dicio)"
      ],
      "metadata": {
        "id": "6Nfk_wE-uNrP"
      },
      "execution_count": null,
      "outputs": []
    },
    {
      "cell_type": "code",
      "source": [
        "# Exercício 6 - Crie um dicionário com 3 chaves e 3 valores e imprima na tela\n",
        "dicio_preenchido = {'MT':'martelo', 'PF': 'Parafuso', 'FU':'Furadeira', 'CF': 'Chave de Fenda'}\n",
        "print(dicio_preenchido)"
      ],
      "metadata": {
        "id": "BNA4tr1Gw7DZ"
      },
      "execution_count": null,
      "outputs": []
    },
    {
      "cell_type": "code",
      "source": [
        "# Exercício 7 - Adicione mais um elemento ao dicionário criado no exercício anterior e imprima na tela\n",
        "dicio_preenchido = {'K1':'martelo', 'K2': 'Parafuso', 'K3':'Furadeira', 'K4': 'Chave de Fenda'}\n",
        "dicio_preenchido['K4'] = \"Marreta\"\n",
        "print(dicio_preenchido)"
      ],
      "metadata": {
        "id": "_kMozBfnw7pu"
      },
      "execution_count": null,
      "outputs": []
    },
    {
      "cell_type": "code",
      "source": [
        "# Exercício 8 - Crie um dicionário com 3 chaves e 3 valores. Um dos valores deve ser uma lista de 2 elementos numéricos. \n",
        "# Imprima o dicionário na tela.\n",
        "dicio = {'K1':'martelo', 'K2': 'Parafuso', 'K3':'Furadeira', 'K4': [1,2]}\n",
        "print(dicio)"
      ],
      "metadata": {
        "id": "LjnPIeecxJPq"
      },
      "execution_count": null,
      "outputs": []
    },
    {
      "cell_type": "code",
      "source": [
        "# Exercício 9 - Crie uma lista de 4 elementos. O primeiro elemento deve ser uma string,\n",
        "# o segundo uma tupla de 2 elementos, o terceiro um dicionário com 2 chaves e 2 valores e\n",
        "# o quarto elemento um valor do tipo float\n",
        "lista = ['String',1,2,3,4]\n",
        "print(lista)\n",
        "\n",
        "tupla = (1,2)\n",
        "print(tupla)\n",
        "\n",
        "dicio = {'K1':'martelo', 'K2': 'Parafuso', 'K3':'Furadeira' ,'K4':10.2}\n",
        "print(dicio)\n",
        "\n",
        "tudo_junto_e_misturado = ['String1', (1, 2), {'k1':'v1', 'k2':'v2'}, 99.98]\n",
        "print(tudo_junto_e_misturado)"
      ],
      "metadata": {
        "colab": {
          "base_uri": "https://localhost:8080/"
        },
        "id": "FvkKnXWFyPSN",
        "outputId": "1e232c51-e2b4-478e-d0d4-a422cf26faae"
      },
      "execution_count": null,
      "outputs": [
        {
          "output_type": "stream",
          "name": "stdout",
          "text": [
            "['String', 1, 2, 3, 4]\n",
            "(1, 2)\n",
            "{'K1': 'martelo', 'K2': 'Parafuso', 'K3': 'Furadeira', 'K4': 10.2}\n",
            "['String1', (1, 2), {'k1': 'v1', 'k2': 'v2'}, 99.98]\n"
          ]
        }
      ]
    },
    {
      "cell_type": "code",
      "source": [
        "frase = 'Engenheiro de Dados é o profissional mais sexy do século XXI'\n",
        "frase[0:19]"
      ],
      "metadata": {
        "colab": {
          "base_uri": "https://localhost:8080/",
          "height": 35
        },
        "id": "nxnFFKSfyae9",
        "outputId": "7fc7e074-ef95-4cd8-e8ea-0540ecb29940"
      },
      "execution_count": 17,
      "outputs": [
        {
          "output_type": "execute_result",
          "data": {
            "text/plain": [
              "'Engenheiro de Dados'"
            ],
            "application/vnd.google.colaboratory.intrinsic+json": {
              "type": "string"
            }
          },
          "metadata": {},
          "execution_count": 17
        }
      ]
    },
    {
      "cell_type": "code",
      "source": [
        "# 01 Faça um programa que imprima na tela se o número é par ou ímpar\n",
        "# desafio 01 resposta\n",
        "\n",
        "numero = int(input(\"Digite um numero: \"))\n",
        "\n",
        "if numero % 2 == 0:  \n",
        "    print(numero, \" é par\")\n",
        "if numero % 2 != 0: \n",
        "    print(numero , \" é impar\")\n",
        "\n",
        "print(\"fim.\")"
      ],
      "metadata": {
        "colab": {
          "base_uri": "https://localhost:8080/"
        },
        "id": "S9aeMikmrgc4",
        "outputId": "0668cc6e-5bb5-4b0d-c95b-0ec7c532d21e"
      },
      "execution_count": 15,
      "outputs": [
        {
          "output_type": "stream",
          "name": "stdout",
          "text": [
            "Digite um numero: 3\n",
            "3  é impar\n",
            "fim.\n"
          ]
        }
      ]
    },
    {
      "cell_type": "code",
      "source": [
        "# 02  Faça um programa que imprima na tela se o número é positivo ou negativo\n",
        "\n",
        "# desafio 02 resposta\n",
        "\n",
        "numero = int(input(\"digite um numero: \"))\n",
        "if numero > 0:\n",
        "  print(f\"Esse número é positivo\")\n",
        "else:\n",
        "  print (f\"Esse número é negativo\")"
      ],
      "metadata": {
        "colab": {
          "base_uri": "https://localhost:8080/"
        },
        "id": "B7cuQMYsrqGm",
        "outputId": "883c6885-a07f-42a4-bbef-aabbb68a177b"
      },
      "execution_count": 12,
      "outputs": [
        {
          "output_type": "stream",
          "name": "stdout",
          "text": [
            "digite um numero: -1\n",
            "Esse número é negativo\n"
          ]
        }
      ]
    },
    {
      "cell_type": "code",
      "source": [
        "# desafio 02 resposta 2\n",
        "\n",
        "valor = int(input('digite um número: '))\n",
        "if valor == 0:\n",
        "  print('número invalido')\n",
        "else:\n",
        "  if valor > 0:\n",
        "    print('número positivo')\n",
        "  else:\n",
        "    print('número negativo')\n",
        "print('programa finalizado')"
      ],
      "metadata": {
        "id": "ROBtT2ZTrxOp"
      },
      "execution_count": null,
      "outputs": []
    },
    {
      "cell_type": "code",
      "source": [
        "# 03 Crie um programa que imprima na tela se o número é maior ou menor\n",
        "\n",
        "# Desafio 03 resposta\n",
        "n1 = int(input('digite um numero: '))\n",
        "n2 = int(input('digite um numero: '))\n",
        "if n1 == n2:\n",
        "  print('Eles são iguais!')\n",
        "else:\n",
        "  if n1 > n2:\n",
        "    print(f'O numero {n1} é maior!')\n",
        "  else:\n",
        "      print(f'O {n2} que o outro numero')\n",
        "print(f'programa finalizado!')"
      ],
      "metadata": {
        "colab": {
          "base_uri": "https://localhost:8080/"
        },
        "id": "Jmo6Qs-FsEx_",
        "outputId": "8b262491-52f9-4ff3-d0cf-db2b396f6406"
      },
      "execution_count": 11,
      "outputs": [
        {
          "output_type": "stream",
          "name": "stdout",
          "text": [
            "digite um numero: 3\n",
            "digite um numero: 2\n",
            "O numero 3 é maior!\n",
            "programa finalizado!\n"
          ]
        }
      ]
    },
    {
      "cell_type": "code",
      "source": [
        "#Desafio 04 Crie um programa que exiba na tela se o sexo é MASCULINO ou FEMININO\n",
        "#Desafio 04 Resposta \n",
        "\n",
        "sexo = input('Digite F ou M: ').upper()\n",
        "if sexo == 'M':\n",
        "   print('Masculino')\n",
        "else:\n",
        "  if sexo == 'F':\n",
        "    print(\"Feminino\")\n",
        "  else:\n",
        "    print('Sexo inválido')\n"
      ],
      "metadata": {
        "colab": {
          "base_uri": "https://localhost:8080/"
        },
        "id": "fjGKB04QsKzv",
        "outputId": "fa653f82-1bc3-4710-bbeb-c76bef0e15b7"
      },
      "execution_count": 9,
      "outputs": [
        {
          "output_type": "stream",
          "name": "stdout",
          "text": [
            "Digite F ou M: m\n",
            "Masculino\n"
          ]
        }
      ]
    },
    {
      "cell_type": "code",
      "source": [
        "# 05 Crie um programa que calcule e mostre a média do aluno\n",
        "#Desafio 05 Resposta\n",
        "\n",
        "n1 = float(input('Digite a primeira nota '))\n",
        "n2 = float(input('Digite a segunda nota '))\n",
        "media = (n1 + n2) / 2\n",
        "\n",
        "if media >= 6:\n",
        "  print(f' Aluno aprovado com a  {media}')\n",
        "elif media >= 4 or media < 6: \n",
        "  print(f' Aluno está de recuperação com a media {media}')\n",
        "else:\n",
        "  print (f'Aluno reporvado com a média {media}')"
      ],
      "metadata": {
        "colab": {
          "base_uri": "https://localhost:8080/"
        },
        "id": "IYa0B009sTeI",
        "outputId": "36fbeba3-859b-41db-9922-791983c78bae"
      },
      "execution_count": 4,
      "outputs": [
        {
          "output_type": "stream",
          "name": "stdout",
          "text": [
            "Digite a primeira nota 10\n",
            "Digite a segunda nota 9\n",
            " Aluno aprovado com a  9.5\n"
          ]
        }
      ]
    },
    {
      "cell_type": "code",
      "source": [
        "# 06 Faça um programa que leia a média do aluno e retorne o status aprovado ou reporvado.\n",
        "#Desafio 06 resposta\n",
        "\n",
        "n1 = float(input('Digite a primeira nota '))\n",
        "\n",
        "if n1 <= 6:\n",
        "  print(f'O aluno tirou {n1} Nossa como você é burro cara! Nota F!')\n",
        "elif n1 >= 6 and n1 <= 7:\n",
        "    print(f'A media do aluno foi {n1} Ainda há esperança pra você meu caro... D')\n",
        "elif n1 > 7 and n1 <= 8:\n",
        "      print(f'O aluno tirou {n1} o cérebro desse ai pegou no tranco, nota C!')\n",
        "elif n1 > 8 and n1 <= 9:\n",
        "        print(f'O aluno tirou {n1} É B, más não é de burro parabéns!')\n",
        "else:\n",
        "          print(f' O aluno {n1} O miserável é um gênio! Tirou A')\n"
      ],
      "metadata": {
        "id": "1FurnEz_sjqY"
      },
      "execution_count": null,
      "outputs": []
    },
    {
      "cell_type": "code",
      "source": [
        "#Desafio 07 - Utilizando estruturas de repetição com teste lógico, faça um programa que peça uma senha para iniciar seu processamento, \n",
        "#só deixe o usuário continuar se a senha estiver correta, após entrar dê boas vindas a seu usuário e apresente a ele o jogo da advinhação, \n",
        "#onde o computador vai “pensar” em um número entre 0 e 10. O jogador vai tentar adivinhar qual número foi escolhido até acertar, \n",
        "#a cada palpite do usuário diga a ele se o número escolhido pelo computador é maior ou menor ao que ele palpitou, no final mostre quantos palpites foram necessários para vencer.\n",
        "\n",
        "\n",
        "# Desafio 07 resposta\n",
        "from os import system\n",
        "system('cls')\n",
        "senha = 'R'\n",
        "sn = input('digite a sua senha: ')\n",
        "\n",
        "while sn != senha :\n",
        "   print('Acesso acesso negado, tente novamente: ')\n",
        "   nvt = input('Digite sua senha: ')\n",
        "   if nvt == senha:\n",
        "      break\n",
        "print()\n",
        "print(\"Acesso permitido!\")\n",
        "print()\n",
        "print('Seja bem vindo ao jogo do advinha')\n",
        "print()\n",
        "print('O cpu irá sortear um número de 0 a 10, e o desafio é você tentar acertar-lo em poucas tentativas, e ai você acha que consegue? Então bora jogar!')\n",
        "print()\n",
        "\n",
        "from random import randint\n",
        "\n",
        "num = randint(0,10)\n",
        "num2 = None\n",
        "cont = 0\n",
        "while num != num2:\n",
        "    resposta = int(input('Digite o valor que você acha que o computaodor sorteou :'))\n",
        "    num2 = resposta\n",
        "    cont += 1\n",
        "    if num > num2:\n",
        "       print('Dica: o número sorteado foi maior')\n",
        "    if num < num2:\n",
        "         print('Dica: o número sorteado e menor.')\n",
        "   \n",
        "if cont == 1:\n",
        "    print(f'Computador sorteou o número {num} e você acertou de primeira parabéns !!')   \n",
        "else:\n",
        "    print(f'Computador sorteou o número {num} e você tentou adivinhar {cont} vezes !!')"
      ],
      "metadata": {
        "id": "3YzLJo5cs13I"
      },
      "execution_count": null,
      "outputs": []
    },
    {
      "cell_type": "code",
      "source": [
        "# Crie um programa onde o usuário possa digitar sete valores numéricos e cadastre-os em uma lista única que mantenha separados os valores pares e ímpares. \n",
        "#No final, mostre os valores pares e ímpares em ordem crescente.\n",
        "#Desafio 08 resposta\n",
        "\n",
        "from os import system\n",
        "system('cls')\n",
        "lista = [[],[]]\n",
        "\n",
        "for r in range(1,7):\n",
        "    num = int(input(f'Digite um número {r}: '))\n",
        "    if num % 2 == 0:\n",
        "        lista[0].append(num)\n",
        "    else:\n",
        "        lista[1].append(num)\n",
        "\n",
        "\n",
        "lista[0].sort()\n",
        "lista[1].sort()\n",
        "print(f'Números pares {lista[0]} números ímpares {lista[1]} ')\n"
      ],
      "metadata": {
        "id": "noSBL6StwBBx"
      },
      "execution_count": null,
      "outputs": []
    },
    {
      "cell_type": "code",
      "source": [
        "#Desafio 09 Resposta \n",
        "\n",
        "#  - Utilizando listas faça um programa que faça 5 perguntas para uma pessoa sobre um crime. As perguntas são:\n",
        "   # \"Telefonou para a vítima?\"\n",
        "   # \"Esteve no local do crime?\"\n",
        "   # \"Mora perto da vítima?\"\n",
        "   # \"Devia para a vítima?\"\n",
        "   # \"Já trabalhou com a vítima?\" \n",
        "# O programa deve no final emitir uma classificação sobre a participação da pessoa no crime. \n",
        "   # Se a pessoa responder positivamente a 2 questões ela deve ser classificada como \"Suspeita\",\n",
        "   # Entre 3 e 4 como \"Cúmplice\" e 5 como \"Assassino\". \n",
        "   # Caso contrário, ele será classificado como \"Inocente\".\n",
        "\n",
        "#resposta exercício 06\n",
        "\n",
        "from os import system\n",
        "system('cls')\n",
        "r1 = input(\"Você conhecia a vítima?: \").lower()\n",
        "r2 = input(\"Você torce pro corinthians?  \").lower()\n",
        "r3 = input(\"Você esteve no local do crime? : \").lower()\n",
        "r4 = input(\"Você telefonou para a vítima antes do crime? : \").lower()\n",
        "r5 = input(\"Você tinha alguma desavença com a vítima?: \").lower()\n",
        "\n",
        "lista = [r1, r2, r3, r4, r5]\n",
        "contadorSim = 0\n",
        "print(lista)\n",
        "\n",
        "for i in lista:\n",
        "    if i == \"sim\":\n",
        "        contadorSim = contadorSim + 1\n",
        "\n",
        "if contadorSim == 2:\n",
        "    print(\"Suspeita\")\n",
        "elif contadorSim > 2 and contadorSim < 5:\n",
        "    print(\"Cúmplice\")\n",
        "elif contadorSim == 5:\n",
        "    print('Culpado!')\n",
        "    print(\"Arma usada: o computador, ele passou um exercício tão complexo, que ao pensar o cérebro da vítima entrou em colapso, superaquecendo e dando tela azul, o resultado a vítima entrou em estado vegetativo.\")\n",
        "else:\n",
        "    print(\"Inocente\")"
      ],
      "metadata": {
        "id": "eqF7HVh3tFvH"
      },
      "execution_count": null,
      "outputs": []
    },
    {
      "cell_type": "code",
      "source": [
        "#Crie um programa que leia nome, ano de nascimento e carteira de trabalho e cadastre-os (com idade) em um dicionário. \n",
        "#Se por acaso a CTPS for diferente de 0, o dicionário receberá também o ano de contratação e o salário. Calcule e acrescente , \n",
        "#além da idade, com quantos anos a pessoa vai se aposentar. Considere que o trabalhador deve contribuir por 35 anos para se aposentar.\n",
        "#resposta\n",
        "\n",
        "from os import system\n",
        "from datetime import date\n",
        "system('cls')\n",
        "ano = date.today().year\n",
        "colaborador = dict()\n",
        "colaborador['nome'] = str(input('Digite seu nome: '))\n",
        "anoDeNascimento = int(input('Digite o Ano de nascimento: '))\n",
        "idade = ano - anoDeNascimento\n",
        "colaborador['idade'] = idade\n",
        "colaborador['CTPS'] = int(input('Digite o número de série da CTPS: '))\n",
        "if colaborador['CTPS'] != 0:\n",
        "  contratacao = int(input('Digite o ano da contratação: '))\n",
        "  anoDeContratacao = ano - contratacao\n",
        "  colaborador['anoDeContratacao'] = anoDeContratacao\n",
        "  colaborador['remuneracao'] = float(input('Digite seu salário: '))\n",
        "  aposentadoria = 35 - colaborador.get('anoDeContratacao')\n",
        "  aposentado = idade + aposentadoria\n",
        "  colaborador['aposentadoria'] = aposentado\n",
        "print(colaborador)"
      ],
      "metadata": {
        "id": "JwxNJQq8w3Kx"
      },
      "execution_count": null,
      "outputs": []
    }
  ]
}